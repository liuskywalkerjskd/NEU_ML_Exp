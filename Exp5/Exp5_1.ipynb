{
 "cells": [
  {
   "cell_type": "markdown",
   "metadata": {},
   "source": [
    "### 采用 scikit-learn 中的 RandomForestRegressor 对加利福尼亚房价数据集进行预测。"
   ]
  },
  {
   "cell_type": "markdown",
   "metadata": {},
   "source": [
    "#### 建立模型"
   ]
  },
  {
   "cell_type": "code",
   "execution_count": 1,
   "metadata": {},
   "outputs": [
    {
     "name": "stdout",
     "output_type": "stream",
     "text": [
      "数据集大小: (20640, 8)\n",
      "特征数量: 8\n",
      "特征名称: ['MedInc', 'HouseAge', 'AveRooms', 'AveBedrms', 'Population', 'AveOccup', 'Latitude', 'Longitude']\n",
      "标签名称: House Price\n",
      "标签分布情况:\n",
      " [4.526 3.585 3.521 ... 0.923 0.847 0.894]\n"
     ]
    }
   ],
   "source": [
    "from sklearn.datasets import fetch_california_housing\n",
    "import time\n",
    "from sklearn.model_selection import GridSearchCV\n",
    "from sklearn.ensemble import RandomForestClassifier\n",
    "from sklearn.model_selection import cross_val_score\n",
    "from sklearn.model_selection import validation_curve\n",
    "from sklearn.model_selection import GridSearchCV\n",
    "import numpy as np\n",
    "# X_california, y_california = fetch_california_housing(return_X_y=True)\n",
    "\n",
    "# 导入数据集\n",
    "data = fetch_california_housing()\n",
    "X_california = data.data\n",
    "y_california = data.target\n",
    "feature_names = data.feature_names\n",
    "target_name = \"House Price\"\n",
    "\n",
    "# 输出数据集信息\n",
    "print(\"数据集大小:\", X_california.shape)\n",
    "print(\"特征数量:\", len(feature_names))\n",
    "print(\"特征名称:\", feature_names)\n",
    "print(\"标签名称:\", target_name)\n",
    "print(\"标签分布情况:\\n\", data.target)\n",
    "# 后续采用的是交叉验证，所以不需要划分训练集和测试集"
   ]
  },
  {
   "cell_type": "markdown",
   "metadata": {},
   "source": [
    "#### 建立模型"
   ]
  },
  {
   "cell_type": "code",
   "execution_count": 2,
   "metadata": {},
   "outputs": [
    {
     "name": "stdout",
     "output_type": "stream",
     "text": [
      "DecisionTreeRegressor模型的训练集RMSE： [1.76398858e-08 1.76263308e-08 1.66068000e-08 1.77224745e-08\n",
      " 1.69919074e-08 1.74371966e-08 1.72230275e-08 1.74512202e-08\n",
      " 1.57309248e-08 1.78358195e-08]\n",
      "DecisionTreeRegressor模型的测试集RMSE： [1.04391926 0.93927818 0.94785848 0.84940843 0.94859303 0.95484077\n",
      " 0.87041794 1.01007558 1.01367974 0.84890938]\n",
      "DecisionTreeRegressor模型的拟合分别耗时： [0.31525254 0.31858468 0.28863835 0.31858468 0.31582451 0.30868077\n",
      " 0.29864407 0.28758407 0.29006052 0.30968213]\n",
      "RandomForestRegressor模型的训练集RMSE： [0.42984211 0.43041083 0.42567804 0.43453237 0.42697992 0.42774629\n",
      " 0.43506784 0.42649927 0.41941884 0.43070611]\n",
      "RandomForestRegressor模型的测试集RMSE： [0.92580873 0.76815601 0.80547556 0.69286533 0.79060611 0.76752061\n",
      " 0.722231   0.86270623 0.89239559 0.69895461]\n",
      "RandomForestRegressor模型的拟合分别耗时： [18.15581346 18.51949286 18.41110563 18.29483771 18.39650083 18.18302822\n",
      " 18.22264886 18.40616846 18.07918    18.22904539]\n"
     ]
    }
   ],
   "source": [
    "# 分别使用 DecisionTreeRegressor 和 RandomForestRegressor 建立分类模型（参数默认）\n",
    "from sklearn.tree import DecisionTreeRegressor\n",
    "from sklearn.ensemble import RandomForestRegressor\n",
    "from sklearn.model_selection import cross_validate\n",
    "\n",
    "# 建立DecisionTreeRegressor模型\n",
    "decision_tree_reg = DecisionTreeRegressor()\n",
    "# 以根均方误差 RMSE 为评估指标： ‘neg_root_mean_squared_error’\n",
    "dt_scores = cross_validate(decision_tree_reg, X_california, y_california,\n",
    "                            cv=10, scoring='neg_root_mean_squared_error', return_train_score=True,n_jobs=-1)\n",
    "\n",
    "dt_train_rmse = np.sqrt(-dt_scores['train_score'])\n",
    "dt_test_rmse = np.sqrt(-dt_scores['test_score'])\n",
    "print(\"DecisionTreeRegressor模型的训练集RMSE：\", dt_train_rmse)\n",
    "print(\"DecisionTreeRegressor模型的测试集RMSE：\", dt_test_rmse)\n",
    "print(\"DecisionTreeRegressor模型的拟合分别耗时：\", dt_scores['fit_time'])\n",
    "\n",
    "# 建立RandomForestRegressor模型\n",
    "random_forest_reg = RandomForestRegressor()\n",
    "# 以根均方误差 RMSE 为评估指标\n",
    "rf_scores = cross_validate(random_forest_reg, X_california, y_california,\n",
    "                            cv=10, scoring='neg_root_mean_squared_error', return_train_score=True,n_jobs=-1)\n",
    "\n",
    "rf_train_rmse = np.sqrt(-rf_scores['train_score'])\n",
    "rf_test_rmse = np.sqrt(-rf_scores['test_score'])\n",
    "print(\"RandomForestRegressor模型的训练集RMSE：\", rf_train_rmse)\n",
    "print(\"RandomForestRegressor模型的测试集RMSE：\", rf_test_rmse)\n",
    "print(\"RandomForestRegressor模型的拟合分别耗时：\", rf_scores['fit_time'])"
   ]
  }
 ],
 "metadata": {
  "kernelspec": {
   "display_name": "Python 3.12.2 64-bit",
   "language": "python",
   "name": "python3"
  },
  "language_info": {
   "codemirror_mode": {
    "name": "ipython",
    "version": 3
   },
   "file_extension": ".py",
   "mimetype": "text/x-python",
   "name": "python",
   "nbconvert_exporter": "python",
   "pygments_lexer": "ipython3",
   "version": "undefined.undefined.undefined"
  },
  "orig_nbformat": 4,
  "vscode": {
   "interpreter": {
    "hash": "bf7ea47511ec7085c4b525781bc732501e71e06cf74784bcd591560fc311ed79"
   }
  }
 },
 "nbformat": 4,
 "nbformat_minor": 2
}
