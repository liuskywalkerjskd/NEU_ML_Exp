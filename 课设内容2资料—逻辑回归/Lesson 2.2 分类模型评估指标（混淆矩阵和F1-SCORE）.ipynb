{
 "cells": [
  {
   "cell_type": "markdown",
   "metadata": {},
   "source": [
    "# Lesson 2.2 分类模型评估指标（混淆矩阵和F1-SCORE）"
   ]
  },
  {
   "cell_type": "code",
   "execution_count": 1,
   "metadata": {},
   "outputs": [],
   "source": [
    "# 科学计算模块\n",
    "import numpy as np\n",
    "\n",
    "# 绘图模块\n",
    "import matplotlib as mpl\n",
    "import matplotlib.pyplot as plt"
   ]
  },
  {
   "cell_type": "markdown",
   "metadata": {},
   "source": [
    "## 一、混淆矩阵与F1-Score"
   ]
  },
  {
   "cell_type": "markdown",
   "metadata": {},
   "source": [
    "&emsp;&emsp;分类模型作为使用场景最为广泛的机器学习模型，相关模型评估指标也伴随着使用场景的拓展而不断丰富。除了准确率以外，常用的二分类模型的模型评估指标还有召回率（Recall）、F1指标（F1-Score）、受试者特征曲线（ROC-AUC）等。不同评估指标有对应的不同的计算方法，当然也有不同的使用场景。      "
   ]
  },
  {
   "cell_type": "markdown",
   "metadata": {},
   "source": [
    "### 1.准确率局限"
   ]
  },
  {
   "cell_type": "markdown",
   "metadata": {},
   "source": [
    "&emsp;&emsp;首先，是准确率作为模型评估指标时的局限。整体来看，准确率作为最为通用、同时也是较好理解的评估指标，在机器学习领域其实仍然存在一定局限。当然，归根结底，这些局限其实是由准确率本身的计算过程所决定的。**首先也是最重要的一点**，就是准确率在计算过程中，所有样本其实是“均匀投票”的，也就是说对每个样本的判别结果，对于最终准确率的影响其实是相同的。例如假设总共有100条数据进行分类，其中任意一条样本被误判都会且仅会影响1%的准确率。如此一来就会造成两方面影响，其一，对于某些样本极端不平衡的分类数据集来说准确率很难很好的衡量模型表现，例如，假设总共有100样本，其中0类有99条，1类有1条，则此时就算模型判别此100条样本全都为0类，准确率也将达到99%，但很多时候可能我们希望的是模型能够将这些1识别出来，例如癌症病患数据中癌症患者、金融风控中欺诈用户等。当然，从更加本质的角度来看，那就是在很多业务场景中，将0错判为1、和将1错判为0，其实实际付出的代价是不一样的，很多时候我们并不是单纯的追求将所有的0样本都正确的识别为0且将1样本都正确的判别为1，而是根据误判的代价，选择更加激进或者更加保守的策略来进行识别。例如如果将1样本误判为0的代价非常大，而将0样本误判为1的代价并不大，则会采用“宁可错杀一千、不可放过一个”的激进策略来识别1。"
   ]
  },
  {
   "cell_type": "markdown",
   "metadata": {},
   "source": [
    "&emsp;&emsp;而为了修正准确率的“均匀投票”在某些场景下的缺陷，引入混淆矩阵、召回率、精确度、F1-Score等指标来完善模型评估指标体系，引入ROC-AUC等指标更好地评估模型整体分类效力。"
   ]
  },
  {
   "cell_type": "markdown",
   "metadata": {},
   "source": [
    "### 2.混淆矩阵（Confusion matrix）"
   ]
  },
  {
   "cell_type": "markdown",
   "metadata": {},
   "source": [
    "&emsp;&emsp;混淆矩阵作为分类模型结果的更加细致精确的可视化展示，有时也被称为误差矩阵或者可能性表格，通常混淆矩阵会应用于二分类问题中，对此首先有如下关键定义："
   ]
  },
  {
   "cell_type": "markdown",
   "metadata": {},
   "source": [
    "- Actual condition：样本真实标签；\n",
    "- Predicated condition：模型预测标签；"
   ]
  },
  {
   "cell_type": "markdown",
   "metadata": {},
   "source": [
    "例如，有如下数据集，第一列为真实标签，即Actual condition，第二列为模型预测结果，即Predicated condition，数据集如下："
   ]
  },
  {
   "cell_type": "markdown",
   "metadata": {},
   "source": [
    "|labels（Actual condition）|predicted（Predicated condition）|\n",
    "|:--:|:--:|\n",
    "|1|0|\n",
    "|1|0|\n",
    "|1|1|\n",
    "|1|1|\n",
    "|1|1|\n",
    "|1|1|\n",
    "|1|1|\n",
    "|1|1|\n",
    "|0|0|\n",
    "|0|0|\n",
    "|0|0|\n",
    "|0|1|"
   ]
  },
  {
   "cell_type": "markdown",
   "metadata": {},
   "source": [
    "&emsp;&emsp;此外，在进行二分类模型预测过程中，样本类别被模型正确识别的情况其实有两种，一种是阳性样本被正确识别，另一种是阴性样本被正确识别，据此我们可以有如下定义："
   ]
  },
  {
   "cell_type": "markdown",
   "metadata": {},
   "source": [
    "- True positive（TP）：样本属于阳性（类别1）、并且被正确识别为阳性（类别1）的样本总数；TP发生时也被称为正确命中（hit）；\n",
    "- True negative（TN）：样本属于阴性（类别0）、并且被正确识别为阴性（类别0）的样本总数；TN发生时也被称为正确拒绝（correct rejection）；"
   ]
  },
  {
   "cell_type": "markdown",
   "metadata": {},
   "source": [
    "对于上述数据集而言，TP=6，TN=3。"
   ]
  },
  {
   "cell_type": "markdown",
   "metadata": {},
   "source": [
    "&emsp;&emsp;当然，对于误分类的样本，其实也有两种情况，其一是阳性样本被误识别为阴性，其二是阴性样本被误识别为阳性，据此我们也有如下定义："
   ]
  },
  {
   "cell_type": "markdown",
   "metadata": {},
   "source": [
    "- False positive（FP）：样本属于阴性（类别0），但被错误判别为阳性（类别1）的样本总数；FP发生时也被称为发生I类了错误（Type I error），或者假警报（False alarm）等；\n",
    "- False negative（FN）：样本属于阳性（类别1），但被错误判别为阴性（类别0）的样本总数；FN发生时也被称为发生了II类错误（Type II error），或者称为错过目标（miss）等；"
   ]
  },
  {
   "cell_type": "markdown",
   "metadata": {},
   "source": [
    "对于上述数据集而言，FP=1，FN=2。"
   ]
  },
  {
   "cell_type": "markdown",
   "metadata": {},
   "source": [
    "对于上述符号，其实不难发现，第一位字母其实表示模型判断的正误（True or False），第二位字母代表样本预测标签（Positive or Negative）。通过上述关键指标，则可构成混淆矩阵："
   ]
  },
  {
   "cell_type": "markdown",
   "metadata": {},
   "source": [
    "<center><img src=\"https://i.loli.net/2021/05/30/tqu1naCcVKNW5Mv.jpg\" alt=\"98\" style=\"zoom:50%;\" />"
   ]
  },
  {
   "cell_type": "markdown",
   "metadata": {},
   "source": [
    "对于上述数据集，混淆矩阵计算结果为："
   ]
  },
  {
   "cell_type": "markdown",
   "metadata": {},
   "source": [
    "<center><img src=\"https://i.loli.net/2021/05/30/DPW6jaIpf4rQRcg.jpg\" alt=\"101\" style=\"zoom:50%;\" />"
   ]
  },
  {
   "cell_type": "markdown",
   "metadata": {},
   "source": [
    "### 3.混淆矩阵中的模型评估指标"
   ]
  },
  {
   "cell_type": "markdown",
   "metadata": {},
   "source": [
    "#### 3.1 围绕识别类别1所构建的评估指标"
   ]
  },
  {
   "cell_type": "markdown",
   "metadata": {},
   "source": [
    "&emsp;&emsp;当然，对于混淆矩阵来说，其实仍然属于第一级观察指标，通过混淆矩阵，通常我们并不会直接使用混淆矩阵中的一级指标，而是去使用基于这些一级指标的二级指标。例如从上述混淆矩阵所提供的结果不难看出，准确率其实就是$ACC=\\frac{TP+TN}{TP+TN+FP+FN}$。当然此外其实还有其他很多常用的二级指标，通过这些二级指标的构建，可以补充准确率在偏态样本中重点识别某类样本时表现的不足。首先，如果是更加关注类别1样本的识别情况，则有两个常用指标："
   ]
  },
  {
   "cell_type": "markdown",
   "metadata": {},
   "source": [
    "- 召回率（Recall）"
   ]
  },
  {
   "cell_type": "markdown",
   "metadata": {},
   "source": [
    "&emsp;&emsp;召回率侧重于关注全部的1类样本中别准确识别出来的比例，其计算公式为："
   ]
  },
  {
   "cell_type": "markdown",
   "metadata": {},
   "source": [
    "$$\n",
    "Recall = \\frac{TP}{TP+FN}\n",
    "$$"
   ]
  },
  {
   "cell_type": "markdown",
   "metadata": {},
   "source": [
    "对于上例中，全部12条样本中有8条1类样本，而其中有6条被正确识别，因此上例的召回率为6/8=75%。"
   ]
  },
  {
   "cell_type": "markdown",
   "metadata": {},
   "source": [
    "&emsp;&emsp;根据召回率的计算公式我们可以试想，如果以召回率作为模型评估指标，则会使得模型非常重视是否把1全部识别了出来，甚至是牺牲掉一些0类样本判别的准确率来提升召回率，即哪怕是错判一些0样本为1类样本，也要将1类样本识别出来，这是一种“宁可错杀一千不可放过一个”的判别思路。因此，召回率其实是一种较为激进的识别1类样本的评估指标，在0类样本被误判代价较低、而1类样本被误判成本较高时可以考虑使用。“宁可错杀一千不可放过一个”"
   ]
  },
  {
   "cell_type": "markdown",
   "metadata": {},
   "source": [
    "&emsp;&emsp;当然，对于极度不均衡样本，这种激进的判别指标也能够很好的判断模型有没有把1类样本成功的识别出来。例如总共100条数据，其中有99条样本标签为0、剩下一条样本标签为1，假设模型总共有A、B、C三个模型，A模型判别所有样本都为0类，B模型判别50条样本为1类50条样本为0类，并且成功识别唯一的一个1类样本，C模型判别20条样本为1类、80条样本为0类，同样成功识别了唯一的一个1类样本，则各模型的准确率和召回率如下："
   ]
  },
  {
   "cell_type": "markdown",
   "metadata": {},
   "source": [
    "|Model|ACC|Recall|\n",
    "|:--:|:--:|:--:|\n",
    "|A|99%|0|\n",
    "|B|51%|100%|\n",
    "|C|81%|100%|"
   ]
  },
  {
   "cell_type": "markdown",
   "metadata": {},
   "source": [
    "&emsp;&emsp;不难发现，在偏态数据中，相比准确率，召回率对于1类样本能否被正确识别的敏感度要远高于准确率，但对于是否牺牲了0类别的准确率却无法直接体现。"
   ]
  },
  {
   "cell_type": "markdown",
   "metadata": {},
   "source": [
    "&emsp;&emsp;此外，召回率往往还被称为sensitivity（敏感度）、hit rate（命中率）、真阳率true positive rate (TPR)以及查全率等。"
   ]
  },
  {
   "cell_type": "markdown",
   "metadata": {},
   "source": [
    "- 查准率（Precision）"
   ]
  },
  {
   "cell_type": "markdown",
   "metadata": {},
   "source": [
    "&emsp;&emsp;和召回率不同，查准率并不主张“宁可错杀一千不可放过一个”，而是更加关注每一次出手（对1类样本的识别）能否成功（准确识别出1）的概率，查准率计算公式为："
   ]
  },
  {
   "cell_type": "markdown",
   "metadata": {},
   "source": [
    "$$\n",
    "Precision = \\frac{TP}{TP+FP}\n",
    "$$"
   ]
  },
  {
   "cell_type": "markdown",
   "metadata": {},
   "source": [
    "对于上例中，全部12条样本，模型总共判别7条样本为1类样本，但其中有6条判别准确，查准率为6/7=86%。"
   ]
  },
  {
   "cell_type": "markdown",
   "metadata": {},
   "source": [
    "&emsp;&emsp;当然，也正是由于这种力求每次出手都尽可能成功的策略，使得当我们在以查准率作为模型判别指标时，模型整体对1的判别会趋于保守，只对那些大概率确定为1的样本进行1类的判别，从而会一定程度牺牲1类样本的查准率，在每次判别成本较高、而识别1样本获益有限的情况可以考虑使用查准率。"
   ]
  },
  {
   "cell_type": "markdown",
   "metadata": {},
   "source": [
    "&emsp;&emsp;同样，对于召回率中所举的例子来看，此时A、B、C三个模型的查准率为："
   ]
  },
  {
   "cell_type": "markdown",
   "metadata": {},
   "source": [
    "|Model|ACC|Recall|Precision|\n",
    "|:--:|:--:|:--:|:--:|\n",
    "|A|99%|0|0|\n",
    "|B|51%|100%|2%|\n",
    "|C|81%|100%|5%|"
   ]
  },
  {
   "cell_type": "markdown",
   "metadata": {},
   "source": [
    "&emsp;&emsp;能够发现，对于偏态样本，相比准确率，查准率能够一定程度反应是否成功识别出1类样本（尽管敏感度不如召回率），并且能够较好的反应对0类样本准确率的牺牲程度。"
   ]
  },
  {
   "cell_type": "markdown",
   "metadata": {},
   "source": [
    "&emsp;&emsp;此外，查准率有时也被称为positive predictive value (PPV)和精确度等。"
   ]
  },
  {
   "cell_type": "markdown",
   "metadata": {},
   "source": [
    "&emsp;&emsp;关于召回率和精确度，也可以通过如下形式进行更加形象的可视化展示"
   ]
  },
  {
   "cell_type": "markdown",
   "metadata": {},
   "source": [
    "<center><img src=\"https://i.loli.net/2021/06/02/DRIoJhWXxV8Pi3E.jpg\" alt=\"102\" style=\"zoom:70%;\" />"
   ]
  },
  {
   "cell_type": "markdown",
   "metadata": {},
   "source": [
    "- F1-Score"
   ]
  },
  {
   "cell_type": "markdown",
   "metadata": {},
   "source": [
    "&emsp;&emsp;不难发现，召回率和查准率其实是一对相对的概念，在围绕1类样本的识别过程中，召回率力求尽可能更多的将1识别出来，而查准率则力求每次对1样本的判别都能获得一个正确的结果。但是，再大多数情况下，其实我们是希望获得一个更加“均衡”的模型判别指标，即我们既不希望模型太过于激进、也不希望模型太过于保守，并且对于偏态样本，既可以较好的衡量1类样本是否被识别，同时也能够兼顾考虑到0类样本的准确率牺牲程度，此时，我们可以考虑使用二者的调和平均数（harmonic mean）作为模型评估指标，即F1-Score。"
   ]
  },
  {
   "cell_type": "markdown",
   "metadata": {},
   "source": [
    "&emsp;&emsp;所谓A和B的调和平均数，指的是$\\frac{2}{\\frac{1}{A}+\\frac{1}{B}}=\\frac{2AB}{A+B}$的计算结果，则F1-Score计算公式如下："
   ]
  },
  {
   "cell_type": "markdown",
   "metadata": {},
   "source": [
    "$$\n",
    "F1-Score = \\frac{2}{\\frac{1}{Recall}+\\frac{1}{Precision}}=\\frac{2 \\cdot Recall \\cdot Precision}{Recall+Precision}\n",
    "$$"
   ]
  },
  {
   "cell_type": "markdown",
   "metadata": {},
   "source": [
    "当然，通常我们也会用TPR表示Recall、PPV表示Precision，此时F1-Score可表示如下："
   ]
  },
  {
   "cell_type": "markdown",
   "metadata": {},
   "source": [
    "$$\n",
    "F1-Score = \\frac{2\\cdot TPR \\cdot PPV}{TPR+PPV}\n",
    "$$"
   ]
  },
  {
   "cell_type": "markdown",
   "metadata": {},
   "source": [
    "如果更近一步用混淆矩阵的一级指标来进行表示，则："
   ]
  },
  {
   "cell_type": "markdown",
   "metadata": {},
   "source": [
    "$$\n",
    "F1-Score = \\frac{2\\cdot TP}{2\\cdot TP+FP+FN}\n",
    "$$"
   ]
  },
  {
   "cell_type": "markdown",
   "metadata": {},
   "source": [
    "&emsp;&emsp;根据F1-Score的计算公式不难发现，F1-Score是一个介于[0,1]之间的计算结果，当FP+FN=0时候（即没有误判样本时），F1-Score计算结果为1；而当没有正确识别出一个1时，即TP=0时，F1-Score=0。"
   ]
  },
  {
   "cell_type": "markdown",
   "metadata": {},
   "source": [
    "&emsp;&emsp;对于偏态样本中的建模结果来说，此时A、B、C三个模型的F1-Score为："
   ]
  },
  {
   "cell_type": "markdown",
   "metadata": {},
   "source": [
    "|Model|ACC|Recall|Precision|F1-Score|\n",
    "|:--:|:--:|:--:|:--:|:--:|\n",
    "|A|99%|0|0|0|\n",
    "|B|51%|100%|2%|0.04|\n",
    "|C|81%|100%|5%|0.095|"
   ]
  },
  {
   "cell_type": "markdown",
   "metadata": {},
   "source": [
    "&emsp;&emsp;对于下述混淆矩阵来说，F1-Score计算结果为$\\frac{12}{12+2+1}=0.8$"
   ]
  },
  {
   "cell_type": "markdown",
   "metadata": {},
   "source": [
    "<center><img src=\"https://i.loli.net/2021/05/30/DPW6jaIpf4rQRcg.jpg\" alt=\"101\" style=\"zoom:50%;\" />"
   ]
  },
  {
   "cell_type": "markdown",
   "metadata": {},
   "source": [
    "- F1-Score基本性质"
   ]
  },
  {
   "cell_type": "markdown",
   "metadata": {},
   "source": [
    "&emsp;&emsp;当然，从上述结果来看，F1-Score指标能够一定程度上综合Recall和Precision的结果，综合判断模型整体分类性能。当然，除了F1-Score以外我们还可以取Recall和Precision的均值(balanced accuracy，简称BA)来作为模型评估指标："
   ]
  },
  {
   "cell_type": "markdown",
   "metadata": {},
   "source": [
    "$$\n",
    "BA = \\frac{Recall+Precision}{2}\n",
    "$$"
   ]
  },
  {
   "cell_type": "markdown",
   "metadata": {},
   "source": [
    "不过，相比平均数，调和平局数其实会更大程度上受到短板数据的影响。从上述结果不难发现，从模型B到模型C，F1-Score的数值增长幅度和Precision涨幅类似，这其实就是由F1-Score的调和平均数的性质决定的。关于这点，我们可以通过下面一组代码实验来进行相关测试："
   ]
  },
  {
   "cell_type": "code",
   "execution_count": 2,
   "metadata": {},
   "outputs": [],
   "source": [
    "def harmonic_mean(A, B):\n",
    "        return 2 * A * B/(A + B)"
   ]
  },
  {
   "cell_type": "code",
   "execution_count": 3,
   "metadata": {},
   "outputs": [],
   "source": [
    "A = np.linspace(0, 1, 100)\n",
    "B = np.ones(shape = A.shape)"
   ]
  },
  {
   "cell_type": "code",
   "execution_count": 4,
   "metadata": {
    "tags": []
   },
   "outputs": [
    {
     "data": {
      "text/plain": [
       "array([0.        , 0.01010101, 0.02020202, 0.03030303, 0.04040404,\n",
       "       0.05050505, 0.06060606, 0.07070707, 0.08080808, 0.09090909,\n",
       "       0.1010101 , 0.11111111, 0.12121212, 0.13131313, 0.14141414,\n",
       "       0.15151515, 0.16161616, 0.17171717, 0.18181818, 0.19191919,\n",
       "       0.2020202 , 0.21212121, 0.22222222, 0.23232323, 0.24242424,\n",
       "       0.25252525, 0.26262626, 0.27272727, 0.28282828, 0.29292929,\n",
       "       0.3030303 , 0.31313131, 0.32323232, 0.33333333, 0.34343434,\n",
       "       0.35353535, 0.36363636, 0.37373737, 0.38383838, 0.39393939,\n",
       "       0.4040404 , 0.41414141, 0.42424242, 0.43434343, 0.44444444,\n",
       "       0.45454545, 0.46464646, 0.47474747, 0.48484848, 0.49494949,\n",
       "       0.50505051, 0.51515152, 0.52525253, 0.53535354, 0.54545455,\n",
       "       0.55555556, 0.56565657, 0.57575758, 0.58585859, 0.5959596 ,\n",
       "       0.60606061, 0.61616162, 0.62626263, 0.63636364, 0.64646465,\n",
       "       0.65656566, 0.66666667, 0.67676768, 0.68686869, 0.6969697 ,\n",
       "       0.70707071, 0.71717172, 0.72727273, 0.73737374, 0.74747475,\n",
       "       0.75757576, 0.76767677, 0.77777778, 0.78787879, 0.7979798 ,\n",
       "       0.80808081, 0.81818182, 0.82828283, 0.83838384, 0.84848485,\n",
       "       0.85858586, 0.86868687, 0.87878788, 0.88888889, 0.8989899 ,\n",
       "       0.90909091, 0.91919192, 0.92929293, 0.93939394, 0.94949495,\n",
       "       0.95959596, 0.96969697, 0.97979798, 0.98989899, 1.        ])"
      ]
     },
     "execution_count": 4,
     "metadata": {},
     "output_type": "execute_result"
    }
   ],
   "source": [
    "A"
   ]
  },
  {
   "cell_type": "code",
   "execution_count": 5,
   "metadata": {},
   "outputs": [
    {
     "data": {
      "text/plain": [
       "array([1., 1., 1., 1., 1., 1., 1., 1., 1., 1., 1., 1., 1., 1., 1., 1., 1.,\n",
       "       1., 1., 1., 1., 1., 1., 1., 1., 1., 1., 1., 1., 1., 1., 1., 1., 1.,\n",
       "       1., 1., 1., 1., 1., 1., 1., 1., 1., 1., 1., 1., 1., 1., 1., 1., 1.,\n",
       "       1., 1., 1., 1., 1., 1., 1., 1., 1., 1., 1., 1., 1., 1., 1., 1., 1.,\n",
       "       1., 1., 1., 1., 1., 1., 1., 1., 1., 1., 1., 1., 1., 1., 1., 1., 1.,\n",
       "       1., 1., 1., 1., 1., 1., 1., 1., 1., 1., 1., 1., 1., 1., 1.])"
      ]
     },
     "execution_count": 5,
     "metadata": {},
     "output_type": "execute_result"
    }
   ],
   "source": [
    "B"
   ]
  },
  {
   "cell_type": "code",
   "execution_count": 6,
   "metadata": {},
   "outputs": [
    {
     "data": {
      "text/plain": [
       "<matplotlib.legend.Legend at 0xa284ac8>"
      ]
     },
     "execution_count": 6,
     "metadata": {},
     "output_type": "execute_result"
    },
    {
     "data": {
      "image/png": "[encoded data removed]",
      "text/plain": [
       "<Figure size 432x288 with 1 Axes>"
      ]
     },
     "metadata": {
      "needs_background": "light"
     },
     "output_type": "display_data"
    }
   ],
   "source": [
    "plt.plot(A, harmonic_mean(A, B), label = 'harmonic_mean')\n",
    "plt.plot(A, (A+B)/2, label = 'mean')\n",
    "plt.xlabel('A')\n",
    "plt.ylabel('result')\n",
    "plt.title('harmonic_mean vs mean')\n",
    "plt.legend(loc = 4)"
   ]
  },
  {
   "cell_type": "markdown",
   "metadata": {},
   "source": [
    "&emsp;&emsp;能够看出，调和平均数和均值相比，其实会更大程度受到短板数据影响，从这个角度来看，F1-Score其实会更加严格，即只要参与计算的Recall和Precision其中一个指标较小，F1-Score指标就会整体偏小，而当F1-Score结果较大时，则说明模型整体分类性能较强，并且哪怕是极端不平衡数据，只要F1-Score计算结果较大，就说明模型对少数类别样本也具有很好的分类性能，从这个角度来说，F1-Score是个比ACC更全面的评估指标，并且，为了能够更严格的要求模型训练过程以期达到一个更好的建模效果，我们往往更倾向于采用F1-Score作为模型评估指标，而不是BA。"
   ]
  },
  {
   "cell_type": "markdown",
   "metadata": {},
   "source": [
    "> 除了F1-Score以外，还有一种更为一般的、可以自主调整召回率和精确度在参与调和平均数计算过程中的权重的评估指标，$F_\\beta$，其计算公式如下：\n",
    "$$\n",
    "F_\\beta=(1+\\beta ^2)\\frac{precision \\cdot recall}{(\\beta ^2 \\cdot precision)+recall}\n",
    "$$"
   ]
  },
  {
   "cell_type": "markdown",
   "metadata": {},
   "source": [
    "&emsp;&emsp;值得注意的是，F1-Score并不是类别对称的，也就是说，如果我们将0类和1类数据标签互换，最终算得的F1-Socre结果会有所不同。因此其实F1-Score虽然是一个更加均衡的评估指标，但其实也只是均衡了在识别1类样本时“激进”或者“保守”的倾向性，但本质上还是一个围绕模型对1类样本识别能力所构建的评估指标。"
   ]
  },
  {
   "cell_type": "markdown",
   "metadata": {},
   "source": [
    "#### 3.2 围绕识别类别0所构建的评估指标"
   ]
  },
  {
   "cell_type": "markdown",
   "metadata": {},
   "source": [
    "&emsp;&emsp;如果说Recall和Precision其实都是围绕以识别类别1为核心目标来构建的评估指标，那么由于二分类的两个类别的对称性，我们完全可以识别类别0为核心目标来构建一套镜像的模型评估指标。"
   ]
  },
  {
   "cell_type": "markdown",
   "metadata": {},
   "source": [
    "<center><img src=\"https://i.loli.net/2021/05/30/tqu1naCcVKNW5Mv.jpg\" alt=\"98\" style=\"zoom:50%;\" />"
   ]
  },
  {
   "cell_type": "markdown",
   "metadata": {},
   "source": [
    "- 特异度（Specificity）"
   ]
  },
  {
   "cell_type": "markdown",
   "metadata": {},
   "source": [
    "&emsp;&emsp;首先是用来衡量0类被正确识别比例的特异度，该指标类似召回率，都是较为激进的评估指标，只考虑关注的类（0类或者1类）被识别出来的比例，而不考虑在识别过程中是否牺牲了另外一类的准确率。该指标计算公式如下："
   ]
  },
  {
   "cell_type": "markdown",
   "metadata": {},
   "source": [
    "$$\n",
    "Specificity = \\frac{TN}{TN+FP}\n",
    "$$"
   ]
  },
  {
   "cell_type": "markdown",
   "metadata": {},
   "source": [
    "同样，对于上述例子来看，特异度计算结果为3/4=0.75"
   ]
  },
  {
   "cell_type": "markdown",
   "metadata": {},
   "source": [
    "<center><img src=\"https://i.loli.net/2021/05/30/DPW6jaIpf4rQRcg.jpg\" alt=\"101\" style=\"zoom:50%;\" />"
   ]
  },
  {
   "cell_type": "markdown",
   "metadata": {},
   "source": [
    "此外，特异度往往也被称为true negative rate (TNR)。"
   ]
  },
  {
   "cell_type": "markdown",
   "metadata": {},
   "source": [
    "- 阴性预测值（negative predictive value）"
   ]
  },
  {
   "cell_type": "markdown",
   "metadata": {},
   "source": [
    "&emsp;&emsp;同样，类似Precision，对于0类样本的衡量，也有一个相对保守评估指标，用于衡量对0类样本进行判别的所有判别结果中正确识别的0类样本所占得比例，也就是阴性预测值指标，往往也被称为NPV（negative predictive value）。其计算公式如下："
   ]
  },
  {
   "cell_type": "markdown",
   "metadata": {},
   "source": [
    "$$\n",
    "NPV = \\frac{TN}{TN+FN}\n",
    "$$"
   ]
  },
  {
   "cell_type": "markdown",
   "metadata": {},
   "source": [
    "而对于上述例子来说，NPV计算结果为3/5=0.6"
   ]
  },
  {
   "cell_type": "code",
   "execution_count": 7,
   "metadata": {},
   "outputs": [
    {
     "data": {
      "text/plain": [
       "0.6"
      ]
     },
     "execution_count": 7,
     "metadata": {},
     "output_type": "execute_result"
    }
   ],
   "source": [
    "3/5"
   ]
  },
  {
   "cell_type": "markdown",
   "metadata": {},
   "source": [
    "&emsp;&emsp;不过，需要注意的是，尽管有一套和识别1类镜像的识别0类的指标，但是，通常来说，我们还是会倾向于将重点识别的类别划为1类，然后采用围绕1类构建的指标来进行模型评估，而不是将其任意划为1类或者0类，然后选取对应类别评估指标来进行模型评估。"
   ]
  },
  {
   "cell_type": "markdown",
   "metadata": {},
   "source": [
    "&emsp;&emsp;此外，对于F1-Score指标来说，尽管其能够间接兼顾0类别的判别情况，但归根结底，F1-Score仍然还是围绕类别1的识别建立起来的评估指标，因此如果重点识别类别是0类，那么还是建议先将其改为1类，然后再利用F1-Score进行建模。"
   ]
  },
  {
   "cell_type": "markdown",
   "metadata": {},
   "source": [
    "> 其实我们仿造F1-Score构造一个由TNR和NPV的调和平均数计算结果指标，通过验证该指标和F1-Score计算结果的不同，来证明F1-Score其实并非0-1类别对称指标。"
   ]
  },
  {
   "cell_type": "markdown",
   "metadata": {},
   "source": [
    "> F1-Score指标的非对称性主要是受到不同类别样本数量影响。"
   ]
  },
  {
   "cell_type": "markdown",
   "metadata": {},
   "source": [
    "- 伪阳率（false positive rate）"
   ]
  },
  {
   "cell_type": "markdown",
   "metadata": {},
   "source": [
    "&emsp;&emsp;除了上述指标外，我们还需要补充一个对后续会经常用到的一个评估指标：伪阳率（false positive rate），其计算公式为："
   ]
  },
  {
   "cell_type": "markdown",
   "metadata": {},
   "source": [
    "$$\n",
    "FPR = 1-specificity=\\frac{FP}{FP+TN}\n",
    "$$"
   ]
  },
  {
   "cell_type": "markdown",
   "metadata": {},
   "source": [
    "即表示在所有预测为0类的样本中，错误样本所占比例。"
   ]
  },
  {
   "cell_type": "markdown",
   "metadata": {},
   "source": [
    "> 此外，Matthews correlation coefficient（马修斯相关系数）、Fowlkes–Mallows index（聚类评价标准）系数等常用评估指标。"
   ]
  },
  {
   "cell_type": "markdown",
   "metadata": {},
   "source": [
    "### 4.混淆矩阵评估指标使用策略"
   ]
  },
  {
   "cell_type": "markdown",
   "metadata": {},
   "source": [
    "&emsp;&emsp;在介绍了这么多基于混淆矩阵的评估指标之后，接下来我们简单总结这些评估指标的一般使用策略。"
   ]
  },
  {
   "cell_type": "markdown",
   "metadata": {},
   "source": [
    "&emsp;&emsp;首先，在类别划分上，仍然需要强调的是，我们需要根据实际业务情况，将重点识别的样本类划为类别1，其他样本划为类别0。当然，如果0、1两类在业务判断上并没有任何重要性方面的差异，那么我们可以将样本更少的哪一类划为1类。"
   ]
  },
  {
   "cell_type": "markdown",
   "metadata": {},
   "source": [
    "&emsp;&emsp;其次，在评估指标选取上，同样需要根据业务情况判断，如果只需要考虑1类别的识别率，则可考虑使用Recall作为模型评估指标，若只需考虑对1样本判别结果中的准确率，则可考虑使用Precision作为评估指标。但一般来说这两种情况其实都不多，更普遍的情况是，需要重点识别1类但也要兼顾0类的准确率，此时我们可以使用F1-Score指标。目前来看，F1-Score其实也是分类模型中最为通用和常见的分类指标。"
   ]
  },
  {
   "cell_type": "markdown",
   "metadata": {},
   "source": [
    "&emsp;&emsp;当然，在某些情况下，例如使用Scikit-Learn利用网格搜索进行模型调参时，对于某些本身分类性能比较强（本身对两类都能进行较好识别）的模型，我们可以适时采用召回率作为网格搜索评价指数，来提升1类识别准确率。"
   ]
  },
  {
   "cell_type": "markdown",
   "metadata": {},
   "source": [
    "### 5.多分类混淆矩阵"
   ]
  },
  {
   "cell_type": "markdown",
   "metadata": {},
   "source": [
    "&emsp;&emsp;一般来说混淆矩阵常用于二分类问题，对于多分类问题，我们同样可以构建如下形式的混淆矩阵："
   ]
  },
  {
   "cell_type": "markdown",
   "metadata": {},
   "source": [
    "<center><img src=\"https://i.loli.net/2021/06/02/pVEc5CvLzq2dFy8.jpg\" alt=\"103\" style=\"zoom:67%;\" />"
   ]
  },
  {
   "cell_type": "markdown",
   "metadata": {},
   "source": [
    "&emsp;&emsp;此时，如果要进行Recall、Precision的计算，则需要先采用此前介绍的OVR策略进行“划分”、然后采用均值策略进行“集成”，依次将A、B、C视为1类，其余类别视为0类来进行计算，例如，A、B、C三类的Recall为："
   ]
  },
  {
   "cell_type": "markdown",
   "metadata": {},
   "source": [
    "$$Recall_A = \\frac{6}{6+2+2} = 0.6$$"
   ]
  },
  {
   "cell_type": "markdown",
   "metadata": {},
   "source": [
    "$$\n",
    "Recall_B = \\frac{3}{3+1+3} = \\frac{3}{7} = 0.42\n",
    "$$"
   ]
  },
  {
   "cell_type": "markdown",
   "metadata": {},
   "source": [
    "$$\n",
    "Recall_C = \\frac{2}{2+2+6} = 0.2\n",
    "$$"
   ]
  },
  {
   "cell_type": "markdown",
   "metadata": {},
   "source": [
    "然后，进行均值计算，即可算得此时模型整体Recall："
   ]
  },
  {
   "cell_type": "markdown",
   "metadata": {},
   "source": [
    "$$\n",
    "Recall = \\frac{0.6+0.42+0.2}{3} = 0.4\n",
    "$$"
   ]
  },
  {
   "cell_type": "markdown",
   "metadata": {},
   "source": [
    "&emsp;&emsp;类似，可以算得$Precision_A = \\frac{6}{13} = 0.46$，$Precision_B = \\frac{3}{7} = 0.42$，$Precision_C = \\frac{2}{7} = 0.28$，随后利用三者均值求出模型整体$Precision=0.38$。"
   ]
  },
  {
   "cell_type": "markdown",
   "metadata": {},
   "source": [
    "&emsp;&emsp;当然，我们也可以计算模型整体F1-Score，此时仍然需要分别计算A、B和C三个模型的F1-Score，然后利用均值进行集成即可。"
   ]
  }
 ],
 "metadata": {
  "kernelspec": {
   "display_name": "Python 3 (ipykernel)",
   "language": "python",
   "name": "python3"
  },
  "language_info": {
   "codemirror_mode": {
    "name": "ipython",
    "version": 3
   },
   "file_extension": ".py",
   "mimetype": "text/x-python",
   "name": "python",
   "nbconvert_exporter": "python",
   "pygments_lexer": "ipython3",
   "version": "3.7.13"
  }
 },
 "nbformat": 4,
 "nbformat_minor": 4
}
