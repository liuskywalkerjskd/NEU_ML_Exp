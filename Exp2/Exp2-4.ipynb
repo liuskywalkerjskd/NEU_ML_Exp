{
 "cells": [
  {
   "attachments": {},
   "cell_type": "markdown",
   "metadata": {},
   "source": [
    "##### 题目四：使用 numpy 编写逻辑回归算法，对 iris 数据进行二分类"
   ]
  },
  {
   "cell_type": "code",
   "execution_count": 20,
   "metadata": {},
   "outputs": [],
   "source": [
    "import numpy as np\n",
    "import matplotlib.pyplot as plt\n",
    "from scipy.linalg import expm\n",
    "from sklearn.datasets import load_iris\n",
    "from sklearn.model_selection  import train_test_split\n",
    "from sklearn.metrics import accuracy_score\n",
    "from sklearn.metrics import confusion_matrix\n",
    "plt.rcParams['font.family'] = 'SimHei'      # 中文正常显示\n",
    "plt.rcParams['axes.unicode_minus'] = False  # 符号正常显示\n"
   ]
  },
  {
   "cell_type": "code",
   "execution_count": 21,
   "metadata": {},
   "outputs": [
    {
     "data": {
      "text/plain": [
       "((80, 2), (20, 2), (80,), (20,))"
      ]
     },
     "execution_count": 21,
     "metadata": {},
     "output_type": "execute_result"
    }
   ],
   "source": [
    "# 加载 iris 数据集\n",
    "iris = load_iris()\n",
    "X = iris.data[:, :2]  # 使用前两个特征\n",
    "y = iris.target\n",
    "X = X[y != 2]   # 使用前两个类别的数据\n",
    "y = y[y != 2]\n",
    "\n",
    "# X_train, X_test, y_train, y_test = train_test_split(X, y, test_size=0.2, random_state=555, stratify=y)\n",
    "# 设置随机种子以保证结果可复现\n",
    "np.random.seed(555)\n",
    "# 设置测试集的比例\n",
    "test_ratio = 0.2\n",
    "# 确定数据集中有哪些类别，手写实现了stratify参数的按类别划分功能\n",
    "classes = np.unique(y)\n",
    "# 初始化训练集和测试集\n",
    "X_train = []\n",
    "X_test = []\n",
    "y_train = []\n",
    "y_test = []\n",
    "\n",
    "# 对每一个类别进行操作\n",
    "for c in classes:\n",
    "    # 找到所有属于这个类别的样本\n",
    "    idx = np.where(y == c)[0]\n",
    "    # 随机打乱这些样本\n",
    "    np.random.shuffle(idx)\n",
    "    \n",
    "    # 计算测试集的大小\n",
    "    test_size = int(len(idx) * test_ratio)\n",
    "    \n",
    "    # 根据打乱的索引数组划分训练集和测试集\n",
    "    X_test.extend(X[idx[:test_size]])\n",
    "    y_test.extend(y[idx[:test_size]])\n",
    "    X_train.extend(X[idx[test_size:]])\n",
    "    y_train.extend(y[idx[test_size:]])\n",
    "\n",
    "# 将训练集和测试集从列表转换为 numpy 数组\n",
    "X_train = np.array(X_train)\n",
    "X_test = np.array(X_test)\n",
    "y_train = np.array(y_train)\n",
    "y_test = np.array(y_test)\n",
    "X_train.shape, X_test.shape, y_train.shape, y_test.shape"
   ]
  },
  {
   "cell_type": "code",
   "execution_count": 22,
   "metadata": {},
   "outputs": [],
   "source": [
    "# 定义逻辑回归模型\n",
    "class LogisticRegression:\n",
    "    def __init__(self, lr=0.01, num_iter=100000, fit_intercept=True):\n",
    "        self.lr = lr\n",
    "        self.num_iter = num_iter\n",
    "        self.fit_intercept = fit_intercept\n",
    "    \n",
    "    def __add_intercept(self, X):# 为 X 增加一列全 1 的特征，构造类时 fit_intercept 设为 True 时会用到\n",
    "        intercept = np.ones((X.shape[0], 1))\n",
    "        return np.concatenate((intercept, X), axis=1)\n",
    "    \n",
    "    def __sigmoid(self, z):# sigmoid 函数，构造类时会用到\n",
    "        return 1 / (1 + np.exp(-z))\n",
    "    \n",
    "    def __loss(self, h, y):\n",
    "        return (-y * np.log(h) - (1 - y) * np.log(1 - h)).mean()\n",
    "    \n",
    "    def fit(self, X, y):\n",
    "        # 拟合函数，X 为训练集的特征，y 为训练集的标签\n",
    "        if self.fit_intercept:\n",
    "            X = self.__add_intercept(X)\n",
    "        self.theta = np.zeros(X.shape[1])\n",
    "        for i in range(self.num_iter):\n",
    "            # 计算预测值\n",
    "            z = np.dot(X, self.theta)\n",
    "            h = self.__sigmoid(z)\n",
    "            gradient = np.dot(X.T, (h - y)) / y.size    # 计算梯度，y.size 为样本数量\n",
    "            self.theta -= self.lr * gradient\n",
    "    \n",
    "    def predict_prob(self, X):\n",
    "        # 预测函数，X 为测试集的特征\n",
    "        if self.fit_intercept:\n",
    "            X = self.__add_intercept(X)\n",
    "        return self.__sigmoid(np.dot(X, self.theta))\n",
    "    \n",
    "    def predict(self, X, threshold=0.5):\n",
    "        return self.predict_prob(X) >= threshold    # 大于等于阈值的返回 True\n",
    "\n",
    "# Stratified train/test split\n",
    "def stratified_train_test_split(X, y, test_ratio, random_seed):\n",
    "    # 这个函数的作用是按类别划分训练集和测试集，test_ratio 是测试集的比例，random_seed 是随机种子\n",
    "    np.random.seed(random_seed)\n",
    "    classes = np.unique(y)\n",
    "    X_train, X_test, y_train, y_test = [], [], [], []\n",
    "    for c in classes:\n",
    "        idx = np.where(y == c)[0]\n",
    "        np.random.shuffle(idx)\n",
    "        test_size = int(len(idx) * test_ratio)\n",
    "        X_test.extend(X[idx[:test_size]])\n",
    "        y_test.extend(y[idx[:test_size]])\n",
    "        X_train.extend(X[idx[test_size:]])\n",
    "        y_train.extend(y[idx[test_size:]])\n",
    "    return np.array(X_train), np.array(X_test), np.array(y_train), np.array(y_test)\n"
   ]
  },
  {
   "cell_type": "code",
   "execution_count": 30,
   "metadata": {},
   "outputs": [
    {
     "name": "stdout",
     "output_type": "stream",
     "text": [
      "决策函数的权重：[ 5.87744704 -9.13700834]\n",
      "决策函数的偏置：-3.2138157290239615\n",
      "决策函数表达式：y = 5.877447040363706 * x1 + -9.137008339882579 * x2 + -3.2138157290239615\n",
      "训练集 Accuracy: 0.9916666666666667\n",
      "测试集 Accuracy: 1.0\n"
     ]
    },
    {
     "data": {
      "image/png": "[encoded data removed]",
      "text/plain": [
       "<Figure size 600x400 with 1 Axes>"
      ]
     },
     "metadata": {},
     "output_type": "display_data"
    }
   ],
   "source": [
    "iris = load_iris()\n",
    "X = iris.data[:, :2] \n",
    "y = (iris.target != 0) * 1 \n",
    "\n",
    "# 划分数据集\n",
    "X_train, X_test, y_train, y_test = stratified_train_test_split(X, y, test_ratio=0.2, random_seed=555)\n",
    "\n",
    "# 训练模型\n",
    "model = LogisticRegression(lr=0.1, num_iter=10000)\n",
    "model.fit(X_train, y_train)\n",
    "# 输出：决策函数的权重、偏置和函数表达式\n",
    "coef_ = model.theta[1:]\n",
    "intercept_ = model.theta[0]\n",
    "print(f'决策函数的权重：{coef_}')\n",
    "print(f'决策函数的偏置：{intercept_}')\n",
    "print(f'决策函数表达式：y = {coef_[0]} * x1 + {coef_[1]} * x2 + {intercept_}')\n",
    "\n",
    "# 预测训练集\n",
    "preds = model.predict(X_train)\n",
    "accuracy = (preds == y_train).mean()\n",
    "print(f'训练集 Accuracy: {accuracy}')\n",
    "\n",
    "# 预测测试集\n",
    "preds = model.predict(X_test)\n",
    "accuracy = (preds == y_test).mean()\n",
    "print(f'测试集 Accuracy: {accuracy}')\n",
    "\n",
    "# 可视化\n",
    "plt.figure(figsize=(6, 4))\n",
    "plt.scatter(X[y == 0][:, 0], X[y == 0][:, 1], color='b', label='0')\n",
    "plt.scatter(X[y == 1][:, 0], X[y == 1][:, 1], color='r', label='1')\n",
    "plt.legend()\n",
    "\n",
    "x1_min, x1_max = X[:,0].min(), X[:,0].max(),\n",
    "x2_min, x2_max = X[:,1].min(), X[:,1].max(),\n",
    "xx1, xx2 = np.meshgrid(np.linspace(x1_min, x1_max), np.linspace(x2_min, x2_max))\n",
    "grid = np.c_[xx1.ravel(), xx2.ravel()]\n",
    "probs = model.predict_prob(grid).reshape(xx1.shape)\n",
    "plt.contour(xx1, xx2, probs, [0.5], linewidths=1, colors='black');  \n",
    "plt.title('划分两个类别的数据集')\n",
    "plt.show()"
   ]
  }
 ],
 "metadata": {
  "kernelspec": {
   "display_name": "Python 3.12.2 64-bit",
   "language": "python",
   "name": "python3"
  },
  "language_info": {
   "codemirror_mode": {
    "name": "ipython",
    "version": 3
   },
   "file_extension": ".py",
   "mimetype": "text/x-python",
   "name": "python",
   "nbconvert_exporter": "python",
   "pygments_lexer": "ipython3",
   "version": "3.12.2"
  },
  "orig_nbformat": 4,
  "vscode": {
   "interpreter": {
    "hash": "bf7ea47511ec7085c4b525781bc732501e71e06cf74784bcd591560fc311ed79"
   }
  }
 },
 "nbformat": 4,
 "nbformat_minor": 2
}
